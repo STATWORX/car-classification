{
  "nbformat": 4,
  "nbformat_minor": 0,
  "metadata": {
    "colab": {
      "name": "prefilter.ipynb",
      "provenance": [],
      "collapsed_sections": [],
      "authorship_tag": "ABX9TyOPml9KDuluT6jj04Va+J1i",
      "include_colab_link": true
    },
    "kernelspec": {
      "name": "python3",
      "display_name": "Python 3"
    },
    "accelerator": "GPU"
  },
  "cells": [
    {
      "cell_type": "markdown",
      "metadata": {
        "id": "view-in-github",
        "colab_type": "text"
      },
      "source": [
        "<a href=\"https://colab.research.google.com/github/fabianmax/car-classification/blob/master/notebooks/prefilter.ipynb\" target=\"_parent\"><img src=\"https://colab.research.google.com/assets/colab-badge.svg\" alt=\"Open In Colab\"/></a>"
      ]
    },
    {
      "cell_type": "code",
      "metadata": {
        "id": "PcdaKuzBHjOW",
        "colab_type": "code",
        "outputId": "80e6353e-c71d-4532-d4dd-516498fac7f3",
        "colab": {
          "base_uri": "https://localhost:8080/",
          "height": 34
        }
      },
      "source": [
        "# Select TF2.x as version\n",
        "%tensorflow_version 2.x"
      ],
      "execution_count": 2,
      "outputs": [
        {
          "output_type": "stream",
          "text": [
            "TensorFlow 2.x selected.\n"
          ],
          "name": "stdout"
        }
      ]
    },
    {
      "cell_type": "code",
      "metadata": {
        "id": "d2CxqXllHp8c",
        "colab_type": "code",
        "colab": {}
      },
      "source": [
        "import tensorflow as tf\n",
        "import numpy as np\n",
        "from keras.preprocessing.image import image\n",
        "from keras.applications.resnet_v2 import preprocess_input\n",
        "from tensorflow.keras.applications import ResNet50V2\n",
        "import os\n",
        "from shutil import copy2\n",
        "from random import sample, seed\n",
        "import gc\n",
        "\n",
        "from google.colab import drive"
      ],
      "execution_count": 0,
      "outputs": []
    },
    {
      "cell_type": "code",
      "metadata": {
        "id": "whFbXYRSH5Nm",
        "colab_type": "code",
        "colab": {}
      },
      "source": [
        "# Class labels in imagenet corresponding to cars\n",
        "CAR_CLASSES = ['minivan', 'limousine', 'sports_car', 'convertible', 'cab', 'racer', 'passenger_car',\n",
        "               'recreational_vehicle', 'pickup', 'police_van', 'minibus', 'moving_van', 'tow_truck', 'jeep',\n",
        "               'landrover']\n",
        "\n",
        "CAR_IDX = [656, 627, 817, 511, 468, 751, 705, 757, 717, 734, 654, 675, 864, 609]"
      ],
      "execution_count": 0,
      "outputs": []
    },
    {
      "cell_type": "code",
      "metadata": {
        "id": "-JFQdjjIIOJF",
        "colab_type": "code",
        "outputId": "3138a2cc-9ff3-4509-8393-4be6f188d12c",
        "colab": {
          "base_uri": "https://localhost:8080/",
          "height": 34
        }
      },
      "source": [
        "# Mount Google Drive for data\n",
        "drive.mount('/content/drive', force_remount=True)"
      ],
      "execution_count": 5,
      "outputs": [
        {
          "output_type": "stream",
          "text": [
            "Mounted at /content/drive\n"
          ],
          "name": "stdout"
        }
      ]
    },
    {
      "cell_type": "code",
      "metadata": {
        "id": "B44tQCZSIvxU",
        "colab_type": "code",
        "outputId": "3b9c0581-695b-4979-ac64-689e086805fb",
        "colab": {
          "base_uri": "https://localhost:8080/",
          "height": 68
        }
      },
      "source": [
        "!mkdir data\n",
        "!mkdir data/raw\n",
        "!cp drive/My\\ Drive/Car-Classifier/data/zip/car-classifier-raw.zip data"
      ],
      "execution_count": 5,
      "outputs": [
        {
          "output_type": "stream",
          "text": [
            "mkdir: cannot create directory ‘data’: File exists\n",
            "mkdir: cannot create directory ‘data/raw’: File exists\n",
            "^C\n"
          ],
          "name": "stdout"
        }
      ]
    },
    {
      "cell_type": "code",
      "metadata": {
        "id": "EbNm5jlRJFxR",
        "colab_type": "code",
        "colab": {}
      },
      "source": [
        "!mkdir data/filtered\n",
        "\n",
        "!unzip -q data/car-classifier-raw.zip -d data/raw"
      ],
      "execution_count": 0,
      "outputs": []
    },
    {
      "cell_type": "code",
      "metadata": {
        "id": "UeArv1U3ICuN",
        "colab_type": "code",
        "colab": {}
      },
      "source": [
        "# Good values below 0.2, else too many cars out\n",
        "THRESH = 0.1\n",
        "IMAGE_DIR = 'data/raw/car-classifier-raw/'  # Directory images are stored in\n",
        "STORAGE_DIR = 'drive/My Drive/Car-Classifier/data/'  # Directory to store split images"
      ],
      "execution_count": 0,
      "outputs": []
    },
    {
      "cell_type": "code",
      "metadata": {
        "id": "yB88WePlJWHu",
        "colab_type": "code",
        "colab": {}
      },
      "source": [
        "def is_car_acc_prob(predictions, thresh=THRESH, car_idx=CAR_IDX):\n",
        "    \"\"\"\n",
        "    Determine if car on image by accumulating probabilities of car prediction and comparing to threshold\n",
        "\n",
        "    Args:\n",
        "        predictions: (?, 1000) matrix of probability predictions resulting from ResNet with imagenet weights\n",
        "        thresh: threshold accumulative probability over which an image is considered a car\n",
        "        car_idx: indices corresponding to cars\n",
        "\n",
        "    Returns:\n",
        "        np.array of booleans describing if car or not\n",
        "    \"\"\"\n",
        "    predictions = np.array(predictions, dtype=float)\n",
        "    car_probs = predictions[:, car_idx]\n",
        "    car_probs_acc = car_probs.sum(axis=1)\n",
        "    return car_probs_acc > thresh"
      ],
      "execution_count": 0,
      "outputs": []
    },
    {
      "cell_type": "code",
      "metadata": {
        "id": "-tN4uLbPJXl_",
        "colab_type": "code",
        "colab": {}
      },
      "source": [
        "def load_images(filepath, filenames):\n",
        "    \"\"\"\n",
        "    Load images given in filenames to array format\n",
        "\n",
        "    Args:\n",
        "        filepath: directory files are stored in. Needed since filenames are passed relative\n",
        "        filenames: filenames of images of which array representation should be returned\n",
        "\n",
        "    Returns:\n",
        "        img_array: array of images\n",
        "    \"\"\"\n",
        "    img_array = []\n",
        "    for i, file in enumerate(filenames):\n",
        "        if i % 1000 == 0:\n",
        "            print(\"#\", end=\"\")\n",
        "        img = image.load_img(filepath + file, target_size=(224, 224))\n",
        "        # img = tf.image.resize_with_crop_or_pad(img, target_height=224, target_width=224)\n",
        "        img = image.img_to_array(img)\n",
        "\n",
        "        img_array.append(img)\n",
        "\n",
        "    return preprocess_input(np.asarray(img_array))"
      ],
      "execution_count": 0,
      "outputs": []
    },
    {
      "cell_type": "code",
      "metadata": {
        "id": "qJgZuCoFKe0H",
        "colab_type": "code",
        "outputId": "c7c253f7-94ea-4c4a-e811-254f14deb74d",
        "colab": {
          "base_uri": "https://localhost:8080/",
          "height": 34
        }
      },
      "source": [
        "# Filenames of all images\n",
        "files = os.listdir(IMAGE_DIR)\n",
        "\n",
        "# seed(32)\n",
        "# files = sample(files, 5000)\n",
        "\n",
        "total_files = len(files)\n",
        "\n",
        "print(\"There are {} files to be processed...\".format(total_files))"
      ],
      "execution_count": 9,
      "outputs": [
        {
          "output_type": "stream",
          "text": [
            "There are 64467 files to be processed...\n"
          ],
          "name": "stdout"
        }
      ]
    },
    {
      "cell_type": "code",
      "metadata": {
        "id": "JDZ142cKKjLS",
        "colab_type": "code",
        "colab": {}
      },
      "source": [
        "# Initialize ResNet Model\n",
        "model = ResNet50V2(weights='imagenet')"
      ],
      "execution_count": 0,
      "outputs": []
    },
    {
      "cell_type": "code",
      "metadata": {
        "id": "2YXWdY7OJheG",
        "colab_type": "code",
        "colab": {
          "base_uri": "https://localhost:8080/",
          "height": 187
        },
        "outputId": "d55863f1-9438-4984-dcdb-147c076b28d9"
      },
      "source": [
        "# Compute predictions chunkwise with explicit garbage collection\n",
        "n = 8000\n",
        "pred_list = []\n",
        "for i in range(0, len(files), n):\n",
        "  print(i)\n",
        "  img_array = load_images(IMAGE_DIR, files[i:min(i+n, len(files))])\n",
        "  preds = model.predict(img_array)\n",
        "  pred_list.append(preds)\n",
        "  del img_array\n",
        "  gc.collect()"
      ],
      "execution_count": 20,
      "outputs": [
        {
          "output_type": "stream",
          "text": [
            "0\n",
            "########8000\n",
            "########16000\n",
            "########24000\n",
            "########32000\n",
            "########40000\n",
            "########48000\n",
            "########56000\n",
            "########64000\n",
            "#"
          ],
          "name": "stdout"
        }
      ]
    },
    {
      "cell_type": "code",
      "metadata": {
        "id": "gGqUQzNlbL-P",
        "colab_type": "code",
        "colab": {}
      },
      "source": [
        "preds = np.concatenate(pred_list, axis=0)"
      ],
      "execution_count": 0,
      "outputs": []
    },
    {
      "cell_type": "code",
      "metadata": {
        "id": "1CImXVwddBzb",
        "colab_type": "code",
        "colab": {}
      },
      "source": [
        "assert(preds.shape[0] == len(files))"
      ],
      "execution_count": 0,
      "outputs": []
    },
    {
      "cell_type": "code",
      "metadata": {
        "id": "PrKNNpF0YOtc",
        "colab_type": "code",
        "colab": {
          "base_uri": "https://localhost:8080/",
          "height": 34
        },
        "outputId": "5ece0de4-a289-4af1-d6bb-9c246adc6ecd"
      },
      "source": [
        "res = is_car_acc_prob(preds)\n",
        "\n",
        "# List to store filenames of car images\n",
        "car_images = []\n",
        "\n",
        "# List to store filenames of non-car images\n",
        "non_car_images = []\n",
        "\n",
        "# for i, prediction in enumerate(decoded_preds):\n",
        "#     if is_car(prediction, CAR_CLASSES):\n",
        "#         car_images.append(files[i])\n",
        "#     else:\n",
        "#         non_car_images.append(files[i])\n",
        "\n",
        "for i, car_flag in enumerate(res):\n",
        "    if car_flag:\n",
        "        car_images.append(files[i])\n",
        "    else:\n",
        "        non_car_images.append(files[i])\n",
        "\n",
        "\n",
        "print(len(car_images), len(non_car_images))"
      ],
      "execution_count": 25,
      "outputs": [
        {
          "output_type": "stream",
          "text": [
            "52610 11857\n"
          ],
          "name": "stdout"
        }
      ]
    },
    {
      "cell_type": "code",
      "metadata": {
        "id": "ABHb4LimLCiI",
        "colab_type": "code",
        "colab": {}
      },
      "source": [
        "storage_dir_ext = STORAGE_DIR + 'thresh' + str(THRESH).replace('.', '_') + '/'\n",
        "os.mkdir(storage_dir_ext)\n",
        "\n",
        "os.mkdir(storage_dir_ext + 'cars')\n",
        "os.mkdir(storage_dir_ext + 'non_cars')\n",
        "\n",
        "for filename in car_images:\n",
        "    copy2(IMAGE_DIR + filename, storage_dir_ext + 'cars')\n",
        "\n",
        "for filename in non_car_images:\n",
        "    copy2(IMAGE_DIR + filename, storage_dir_ext + 'non_cars')"
      ],
      "execution_count": 0,
      "outputs": []
    }
  ]
}